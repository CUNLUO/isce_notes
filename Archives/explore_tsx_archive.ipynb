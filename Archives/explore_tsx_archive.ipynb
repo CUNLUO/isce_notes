{
 "cells": [
  {
   "cell_type": "markdown",
   "metadata": {},
   "source": [
    "# TSX Catalog Bogota Acquisitions\n",
    "\n",
    "## full catalog search\n",
    "https://centaurus.caf.dlr.de:8443/eoweb-ng/template/default/welcome/entryPage.vm\n"
   ]
  },
  {
   "cell_type": "code",
   "execution_count": 68,
   "metadata": {
    "collapsed": true
   },
   "outputs": [],
   "source": [
    "import pandas as pd\n",
    "import matplotlib.pyplot as plt\n",
    "import numpy as np"
   ]
  },
  {
   "cell_type": "code",
   "execution_count": 3,
   "metadata": {
    "collapsed": true
   },
   "outputs": [],
   "source": [
    "%matplotlib inline\n",
    "%qtconsole"
   ]
  },
  {
   "cell_type": "code",
   "execution_count": 5,
   "metadata": {
    "collapsed": true
   },
   "outputs": [],
   "source": [
    "df = pd.read_csv('tsx_stripmap_bogota.txt', sep='|')"
   ]
  },
  {
   "cell_type": "code",
   "execution_count": 11,
   "metadata": {},
   "outputs": [
    {
     "name": "stdout",
     "output_type": "stream",
     "text": [
      "Index(['Id', 'Avail.', 'Transfer', 'Abstract', 'Identifier', 'Item Type',\n",
      "       'Mission/Satellite', 'Sensor', 'Orbit', 'Start Date', 'End Date',\n",
      "       'Mission-Satellite', 'Sensor/Instrument', 'Sensor Mode',\n",
      "       'Polarization Mode', 'Polarization Channels',\n",
      "       'Sat2 Polarisation Channels', 'Relative Orbit', 'Beam',\n",
      "       'Incidence Angle Scene Center', 'Minimum Incidence Angle',\n",
      "       'Maximum Incidence Angle', 'Pass Direction', 'Looking Direction',\n",
      "       'System Order Identification', 'System Order Path', 'Path', 'Pass',\n",
      "       'Row', 'Cloud Coverage', 'Order ID', 'RESA ID', 'Satellite',\n",
      "       'Acquisition Item ID', 'Datatake Filenumber', 'Revision',\n",
      "       'Commanded Starttime UTC', 'Scene Number', 'Master Satellite',\n",
      "       'Master Starttime UTC', 'Applied To', 'Satellite 1', 'Satellite 2',\n",
      "       'Datatake Class', 'Satellite Mode', 'Sat1 Satellite Mode',\n",
      "       'Sat2 Satellite Mode', 'Common Cooperative Mode', 'Imaging Mode',\n",
      "       'Antenna Look Direction', 'Antenna Receive Configuration',\n",
      "       'Polarisation Mode', 'Polarisation Channels', 'Orbit Direction',\n",
      "       'Time Period', 'Region', 'Project ID', 'Scene ID', 'Test Site',\n",
      "       'Station', 'SWACI Product Type', 'DEM Identifier', 'DEM Posting Class',\n",
      "       'DEM Tile Status', 'DEM Valids [%]', 'Average Terrain Height',\n",
      "       'Product Availability', 'Request Priority', 'Datatake Quality',\n",
      "       'Datatake State', 'Datatake State Explanation',\n",
      "       'Product Quality Explanation', 'Radiometric Cal Quality',\n",
      "       'Off Nadir Angle', 'Geometric Cal Quality', 'Ground Resolution VIS',\n",
      "       'Ground Resolution IR', 'Hot Spot Count', 'Max Effective Fire Power',\n",
      "       'Max Effective Fire Area', 'Datatake ID', 'Quality', 'Product Type',\n",
      "       'Operations Type', 'Item Descriptor Identifier', 'THUMBNAIL DATA',\n",
      "       'FOOTPRINT', 'ACQUISITIONDESCRIPTOR', 'Display'],\n",
      "      dtype='object')\n"
     ]
    },
    {
     "data": {
      "text/html": [
       "<div>\n",
       "<style>\n",
       "    .dataframe thead tr:only-child th {\n",
       "        text-align: right;\n",
       "    }\n",
       "\n",
       "    .dataframe thead th {\n",
       "        text-align: left;\n",
       "    }\n",
       "\n",
       "    .dataframe tbody tr th {\n",
       "        vertical-align: top;\n",
       "    }\n",
       "</style>\n",
       "<table border=\"1\" class=\"dataframe\">\n",
       "  <thead>\n",
       "    <tr style=\"text-align: right;\">\n",
       "      <th></th>\n",
       "      <th>Id</th>\n",
       "      <th>Avail.</th>\n",
       "      <th>Transfer</th>\n",
       "      <th>Abstract</th>\n",
       "      <th>Identifier</th>\n",
       "      <th>Item Type</th>\n",
       "      <th>Mission/Satellite</th>\n",
       "      <th>Sensor</th>\n",
       "      <th>Orbit</th>\n",
       "      <th>Start Date</th>\n",
       "      <th>...</th>\n",
       "      <th>Max Effective Fire Area</th>\n",
       "      <th>Datatake ID</th>\n",
       "      <th>Quality</th>\n",
       "      <th>Product Type</th>\n",
       "      <th>Operations Type</th>\n",
       "      <th>Item Descriptor Identifier</th>\n",
       "      <th>THUMBNAIL DATA</th>\n",
       "      <th>FOOTPRINT</th>\n",
       "      <th>ACQUISITIONDESCRIPTOR</th>\n",
       "      <th>Display</th>\n",
       "    </tr>\n",
       "  </thead>\n",
       "  <tbody>\n",
       "    <tr>\n",
       "      <th>0</th>\n",
       "      <td>1</td>\n",
       "      <td>False</td>\n",
       "      <td>NaN</td>\n",
       "      <td>TSX-1.SAR.L1b-Stripmap</td>\n",
       "      <td>NaN</td>\n",
       "      <td>CatalogueScene</td>\n",
       "      <td>TSX-1</td>\n",
       "      <td>SAR</td>\n",
       "      <td>NaN</td>\n",
       "      <td>2008-05-18T23:07:41,308</td>\n",
       "      <td>...</td>\n",
       "      <td>NaN</td>\n",
       "      <td>NaN</td>\n",
       "      <td>AUTO_APPROVED</td>\n",
       "      <td>NaN</td>\n",
       "      <td>OPERATIONAL</td>\n",
       "      <td>PID_TSX-1.SAR.L1b-Stripmap:/dims_nz_pl_dfd_XXX...</td>\n",
       "      <td>NaN</td>\n",
       "      <td>4.4838515518588 -73.957855 5.0227940285278 -74...</td>\n",
       "      <td>PID_TSX-1.SAR.L1b-Stripmap:/dims_nz_pl_dfd_XXX...</td>\n",
       "      <td>True</td>\n",
       "    </tr>\n",
       "  </tbody>\n",
       "</table>\n",
       "<p>1 rows × 89 columns</p>\n",
       "</div>"
      ],
      "text/plain": [
       "   Id  Avail.  Transfer                Abstract  Identifier       Item Type  \\\n",
       "0   1   False       NaN  TSX-1.SAR.L1b-Stripmap         NaN  CatalogueScene   \n",
       "\n",
       "  Mission/Satellite Sensor  Orbit               Start Date   ...     \\\n",
       "0             TSX-1    SAR    NaN  2008-05-18T23:07:41,308   ...      \n",
       "\n",
       "  Max Effective Fire Area  Datatake ID        Quality Product Type  \\\n",
       "0                     NaN          NaN  AUTO_APPROVED          NaN   \n",
       "\n",
       "  Operations Type                         Item Descriptor Identifier  \\\n",
       "0     OPERATIONAL  PID_TSX-1.SAR.L1b-Stripmap:/dims_nz_pl_dfd_XXX...   \n",
       "\n",
       "   THUMBNAIL DATA                                          FOOTPRINT  \\\n",
       "0             NaN  4.4838515518588 -73.957855 5.0227940285278 -74...   \n",
       "\n",
       "                               ACQUISITIONDESCRIPTOR  Display  \n",
       "0  PID_TSX-1.SAR.L1b-Stripmap:/dims_nz_pl_dfd_XXX...     True  \n",
       "\n",
       "[1 rows x 89 columns]"
      ]
     },
     "execution_count": 11,
     "metadata": {},
     "output_type": "execute_result"
    }
   ],
   "source": [
    "print(df.keys())\n",
    "df.head(1)"
   ]
  },
  {
   "cell_type": "code",
   "execution_count": 14,
   "metadata": {},
   "outputs": [
    {
     "data": {
      "text/plain": [
       "Relative Orbit\n",
       "44       4\n",
       "66     107\n",
       "135      5\n",
       "157      2\n",
       "Name: Id, dtype: int64"
      ]
     },
     "execution_count": 14,
     "metadata": {},
     "output_type": "execute_result"
    }
   ],
   "source": [
    "gb = df.groupby('Relative Orbit')\n",
    "gb.Id.count()"
   ]
  },
  {
   "cell_type": "code",
   "execution_count": 27,
   "metadata": {},
   "outputs": [
    {
     "name": "stdout",
     "output_type": "stream",
     "text": [
      "['strip_008' 'strip_007']\n"
     ]
    },
    {
     "data": {
      "text/plain": [
       "Beam\n",
       "strip_007      2\n",
       "strip_008    105\n",
       "Name: Id, dtype: int64"
      ]
     },
     "execution_count": 27,
     "metadata": {},
     "output_type": "execute_result"
    }
   ],
   "source": [
    "# Find scenes from previous RAW order, note keywords get truncated for some reason...\n",
    "df66 = df[ (df[\"Relative Orbit\"] == 66)] \n",
    "print(df66.Beam.unique())\n",
    "df66.groupby('Beam').Id.count()"
   ]
  },
  {
   "cell_type": "code",
   "execution_count": 28,
   "metadata": {},
   "outputs": [
    {
     "data": {
      "text/plain": [
       "Polarization Channels\n",
       "HH      4\n",
       "VV    103\n",
       "Name: Id, dtype: int64"
      ]
     },
     "execution_count": 28,
     "metadata": {},
     "output_type": "execute_result"
    }
   ],
   "source": [
    "df66.groupby(\"Polarization Channels\").Id.count()"
   ]
  },
  {
   "cell_type": "code",
   "execution_count": 43,
   "metadata": {},
   "outputs": [],
   "source": [
    "orbit = 66\n",
    "strip = 'strip_008'\n",
    "pol = 'VV'\n",
    "dfs = df[ (df[\"Relative Orbit\"] == orbit) & (df[\"Beam\"] == strip) & (df[\"Polarization Channels\"] == pol) ]\n",
    "dfs[\"Date\"] = pd.to_datetime(dfs[\"Start Date\"])"
   ]
  },
  {
   "cell_type": "code",
   "execution_count": 44,
   "metadata": {},
   "outputs": [
    {
     "name": "stdout",
     "output_type": "stream",
     "text": [
      "Relative Orbit: 66\n",
      "Beam: strip_008\n",
      "Polarization: VV\n",
      "Descending\n",
      "Incidence: 31.1 to 35.1\n",
      "Dates : 103\n"
     ]
    }
   ],
   "source": [
    "print('Relative Orbit: {}'.format(orbit))\n",
    "print('Beam: {}'.format(strip))\n",
    "print('Polarization: {}'.format(pol))\n",
    "print(df66[\"Pass Direction\"].iloc[0])\n",
    "print('Incidence: {:.1f} to {:.1f}'.format(dfs[\"Minimum Incidence Angle\"].iloc[0], dfs[\"Maximum Incidence Angle\"].iloc[0]))\n",
    "print('Dates :', len(dfs))"
   ]
  },
  {
   "cell_type": "code",
   "execution_count": 50,
   "metadata": {},
   "outputs": [
    {
     "data": {
      "text/plain": [
       "<matplotlib.axes._subplots.AxesSubplot at 0x107822b70>"
      ]
     },
     "execution_count": 50,
     "metadata": {},
     "output_type": "execute_result"
    },
    {
     "data": {
      "image/png": "[encoded data removed]",
      "text/plain": [
       "<matplotlib.figure.Figure at 0x107879080>"
      ]
     },
     "metadata": {},
     "output_type": "display_data"
    }
   ],
   "source": [
    "dfs.plot(y='Relative Orbit', x='Date', style='.')"
   ]
  },
  {
   "cell_type": "code",
   "execution_count": 59,
   "metadata": {},
   "outputs": [
    {
     "name": "stdout",
     "output_type": "stream",
     "text": [
      "Archive order cutoff date:  2015/12/09\n"
     ]
    }
   ],
   "source": [
    "# Archive orders must be 18months old\n",
    "today = pd.to_datetime('today')\n",
    "cutoff = today - pd.Timedelta(18*30, 'D')\n",
    "print('Archive order cutoff date: ', cutoff.strftime('%Y/%m/%d'))"
   ]
  },
  {
   "cell_type": "code",
   "execution_count": 63,
   "metadata": {},
   "outputs": [
    {
     "name": "stdout",
     "output_type": "stream",
     "text": [
      "69  scenes older than 18months in archive\n"
     ]
    }
   ],
   "source": [
    "print(len(dfs.query('Date <= @cutoff')), ' scenes older than 18months in archive')\n"
   ]
  },
  {
   "cell_type": "code",
   "execution_count": 99,
   "metadata": {},
   "outputs": [
    {
     "data": {
      "image/png": "[encoded data removed]",
      "text/plain": [
       "<matplotlib.figure.Figure at 0x10838d128>"
      ]
     },
     "metadata": {},
     "output_type": "display_data"
    }
   ],
   "source": [
    "dfb = dfs.query('Date <= @cutoff')\n",
    "dfa = dfs.query('Date > @cutoff')\n",
    "fig,ax = plt.subplots(figsize=(8.5,2))\n",
    "plt.plot(dfb.Date, np.ones(len(dfb)), 'g.')\n",
    "plt.plot(dfa.Date, np.ones(len(dfa)), 'r.')\n",
    "\n",
    "plt.text(cutoff, 1.01, '{} '.format(len(dfs.query('Date <= @cutoff'))), ha='right', color='g')\n",
    "plt.text(cutoff, 1.01, ' {}'.format(len(dfs.query('Date > @cutoff'))), ha='left', color='r')\n",
    "\n",
    "plt.axvline(cutoff, linestyle='dashed', color='k', label='today - 18 months\\n{}'.format(cutoff.strftime('%Y/%m/%d')))\n",
    "plt.legend(loc='upper left')\n",
    "plt.tick_params(labelleft=False)\n",
    "plt.title('Archived TSX available for order')\n",
    "fig.autofmt_xdate()\n"
   ]
  },
  {
   "cell_type": "code",
   "execution_count": null,
   "metadata": {
    "collapsed": true
   },
   "outputs": [],
   "source": []
  }
 ],
 "metadata": {
  "anaconda-cloud": {},
  "kernelspec": {
   "display_name": "Python 3",
   "language": "python",
   "name": "python3"
  },
  "language_info": {
   "codemirror_mode": {
    "name": "ipython",
    "version": 3
   },
   "file_extension": ".py",
   "mimetype": "text/x-python",
   "name": "python",
   "nbconvert_exporter": "python",
   "pygments_lexer": "ipython3",
   "version": "3.6.1"
  }
 },
 "nbformat": 4,
 "nbformat_minor": 2
}
